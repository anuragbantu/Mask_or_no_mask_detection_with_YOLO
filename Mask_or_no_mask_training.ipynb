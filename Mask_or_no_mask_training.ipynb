{
  "nbformat": 4,
  "nbformat_minor": 0,
  "metadata": {
    "colab": {
      "name": "Mask or no mask training.ipynb",
      "provenance": [],
      "collapsed_sections": []
    },
    "kernelspec": {
      "name": "python3",
      "display_name": "Python 3"
    },
    "accelerator": "GPU"
  },
  "cells": [
    {
      "cell_type": "code",
      "metadata": {
        "id": "1V5osUQ8RXXQ",
        "colab_type": "code",
        "colab": {}
      },
      "source": [
        "# Clone\n",
        "!git clone https://github.com/AlexeyAB/darknet"
      ],
      "execution_count": null,
      "outputs": []
    },
    {
      "cell_type": "code",
      "metadata": {
        "id": "wiry5M6vSRUP",
        "colab_type": "code",
        "colab": {
          "base_uri": "https://localhost:8080/"
        },
        "outputId": "e95f717f-2a9d-49b7-cc47-f112dea15b85"
      },
      "source": [
        "# Configure\n",
        "%cd darknet\n",
        "!sed -i 's/OPENCV=0/OPENCV=1/' Makefile\n",
        "!sed -i 's/GPU=0/GPU=1/' Makefile\n",
        "!sed -i 's/CUDNN=0/CUDNN=1/' Makefile"
      ],
      "execution_count": null,
      "outputs": [
        {
          "output_type": "stream",
          "text": [
            "/content/darknet\n"
          ],
          "name": "stdout"
        }
      ]
    },
    {
      "cell_type": "code",
      "metadata": {
        "id": "2FkZb7p3SaWo",
        "colab_type": "code",
        "colab": {}
      },
      "source": [
        "# Compile\n",
        "!make"
      ],
      "execution_count": null,
      "outputs": []
    },
    {
      "cell_type": "code",
      "metadata": {
        "id": "riB_64UfE-Y8",
        "colab_type": "code",
        "colab": {}
      },
      "source": [
        "!ln -s /content/drive/My\\ Drive/ /mydrive\n",
        "!ls /mydrive"
      ],
      "execution_count": null,
      "outputs": []
    },
    {
      "cell_type": "code",
      "metadata": {
        "id": "U4rjqUxJSlt4",
        "colab_type": "code",
        "colab": {}
      },
      "source": [
        "# Make a copy of yolov3.cfg\n",
        "!cp cfg/yolov3.cfg cfg/yolov3_training.cfg"
      ],
      "execution_count": null,
      "outputs": []
    },
    {
      "cell_type": "code",
      "metadata": {
        "id": "lGangWfhS6RN",
        "colab_type": "code",
        "colab": {}
      },
      "source": [
        "# Change lines in yolov3.cfg file\n",
        "!sed -i 's/batch=1/batch=64/' cfg/yolov3_training.cfg\n",
        "!sed -i 's/subdivisions=1/subdivisions=16/' cfg/yolov3_training.cfg\n",
        "!sed -i 's/max_batches = 500200/max_batches = 4000/' cfg/yolov3_training.cfg\n",
        "!sed -i '610 s@classes=80@classes=2@' cfg/yolov3_training.cfg\n",
        "!sed -i '696 s@classes=80@classes=2@' cfg/yolov3_training.cfg\n",
        "!sed -i '783 s@classes=80@classes=2@' cfg/yolov3_training.cfg\n",
        "!sed -i '603 s@filters=255@filters=21@' cfg/yolov3_training.cfg\n",
        "!sed -i '689 s@filters=255@filters=21@' cfg/yolov3_training.cfg\n",
        "!sed -i '776 s@filters=255@filters=21@' cfg/yolov3_training.cfg"
      ],
      "execution_count": null,
      "outputs": []
    },
    {
      "cell_type": "code",
      "metadata": {
        "id": "N5i9V8tOS_K1",
        "colab_type": "code",
        "colab": {}
      },
      "source": [
        "!echo -e 'Wearing Mask\\nNot Wearing Mask' > data/obj.names\n",
        "!echo -e 'classes= 2\\ntrain  = data/train.txt\\nvalid  = data/test.txt\\nnames = data/obj.names\\nbackup = /mydrive/yolov3' > data/obj.data"
      ],
      "execution_count": null,
      "outputs": []
    },
    {
      "cell_type": "code",
      "metadata": {
        "id": "02qDvkyBTv-C",
        "colab_type": "code",
        "colab": {}
      },
      "source": [
        "!cp cfg/yolov3_training.cfg /mydrive/yolov3/yolov3_testing.cfg\n",
        "!cp data/obj.names /mydrive/yolov3/classes.txt"
      ],
      "execution_count": null,
      "outputs": []
    },
    {
      "cell_type": "code",
      "metadata": {
        "id": "bxxmByEfFXJz",
        "colab_type": "code",
        "colab": {}
      },
      "source": [
        "#unzip all the images\n",
        "!mkdir data/obj\n",
        "!unrar x /mydrive/yolov3/images.rar -d data/obj"
      ],
      "execution_count": null,
      "outputs": []
    },
    {
      "cell_type": "code",
      "metadata": {
        "id": "J4TdrPzyGzqh",
        "colab_type": "code",
        "colab": {}
      },
      "source": [
        "import glob\n",
        "images_list = glob.glob(\"data/obj/*.jpg\")\n",
        "with open(\"data/train.txt\", \"w\") as f:\n",
        "    f.write(\"\\n\".join(images_list))"
      ],
      "execution_count": null,
      "outputs": []
    },
    {
      "cell_type": "code",
      "metadata": {
        "id": "5OWCni8kHKvO",
        "colab_type": "code",
        "colab": {}
      },
      "source": [
        "#load pretrained weights\n",
        "#!wget https://pjreddie.com/media/files/darknet53.conv.74"
      ],
      "execution_count": null,
      "outputs": []
    },
    {
      "cell_type": "code",
      "metadata": {
        "id": "vfGT-a2E-Unx",
        "colab_type": "code",
        "colab": {}
      },
      "source": [
        "#training the model\n",
        "\n",
        "#!./darknet detector train data/obj.data cfg/yolov3_training.cfg darknet53.conv.74 -dont_show\n",
        "!./darknet detector train data/obj.data cfg/yolov3_training.cfg /mydrive/yolov3/yolov3_training_last.weights -dont_show"
      ],
      "execution_count": null,
      "outputs": []
    }
  ]
}